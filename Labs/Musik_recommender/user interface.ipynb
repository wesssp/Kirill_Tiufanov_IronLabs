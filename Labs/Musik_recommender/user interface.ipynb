{
 "cells": [
  {
   "cell_type": "code",
   "execution_count": 1,
   "id": "d862af85",
   "metadata": {},
   "outputs": [],
   "source": [
    "import csv\n",
    "import random\n",
    "from autocorrect import Speller\n",
    "import schedule\n",
    "import time\n",
    "import config\n",
    "from bs4 import BeautifulSoup\n",
    "import requests\n",
    "import pandas as pd\n",
    "import numpy as np\n",
    "from random import randint\n",
    "import spotipy\n",
    "import json\n",
    "from spotipy.oauth2 import SpotifyClientCredentials\n",
    "from sklearn.preprocessing import StandardScaler\n",
    "from sklearn.cluster import KMeans\n",
    "from matplotlib import pyplot\n",
    "import numpy as np\n",
    "import pickle\n",
    "from sklearn import datasets # sklearn comes with some toy datasets to practise\n",
    "from sklearn.preprocessing import StandardScaler\n",
    "from sklearn.cluster import KMeans\n",
    "from matplotlib import pyplot\n",
    "from sklearn.metrics import silhouette_score\n",
    "import pickle\n",
    "import config"
   ]
  },
  {
   "cell_type": "code",
   "execution_count": 2,
   "id": "ecdfad07",
   "metadata": {},
   "outputs": [
    {
     "data": {
      "text/plain": [
       "{'tracks': {'href': 'https://api.spotify.com/v1/search?query=Lose+yourself&type=track&market=GB&offset=0&limit=3',\n",
       "  'items': [{'album': {'album_type': 'single',\n",
       "     'artists': [{'external_urls': {'spotify': 'https://open.spotify.com/artist/7dGJo4pcD2V6oG8kP0tJRR'},\n",
       "       'href': 'https://api.spotify.com/v1/artists/7dGJo4pcD2V6oG8kP0tJRR',\n",
       "       'id': '7dGJo4pcD2V6oG8kP0tJRR',\n",
       "       'name': 'Eminem',\n",
       "       'type': 'artist',\n",
       "       'uri': 'spotify:artist:7dGJo4pcD2V6oG8kP0tJRR'}],\n",
       "     'external_urls': {'spotify': 'https://open.spotify.com/album/1rfORa9iYmocEsnnZGMVC4'},\n",
       "     'href': 'https://api.spotify.com/v1/albums/1rfORa9iYmocEsnnZGMVC4',\n",
       "     'id': '1rfORa9iYmocEsnnZGMVC4',\n",
       "     'images': [{'height': 640,\n",
       "       'url': 'https://i.scdn.co/image/ab67616d0000b273b6ef2ebd34efb08cb76f6eec',\n",
       "       'width': 640},\n",
       "      {'height': 300,\n",
       "       'url': 'https://i.scdn.co/image/ab67616d00001e02b6ef2ebd34efb08cb76f6eec',\n",
       "       'width': 300},\n",
       "      {'height': 64,\n",
       "       'url': 'https://i.scdn.co/image/ab67616d00004851b6ef2ebd34efb08cb76f6eec',\n",
       "       'width': 64}],\n",
       "     'name': 'Just Lose It',\n",
       "     'release_date': '2004-01-01',\n",
       "     'release_date_precision': 'day',\n",
       "     'total_tracks': 2,\n",
       "     'type': 'album',\n",
       "     'uri': 'spotify:album:1rfORa9iYmocEsnnZGMVC4'},\n",
       "    'artists': [{'external_urls': {'spotify': 'https://open.spotify.com/artist/7dGJo4pcD2V6oG8kP0tJRR'},\n",
       "      'href': 'https://api.spotify.com/v1/artists/7dGJo4pcD2V6oG8kP0tJRR',\n",
       "      'id': '7dGJo4pcD2V6oG8kP0tJRR',\n",
       "      'name': 'Eminem',\n",
       "      'type': 'artist',\n",
       "      'uri': 'spotify:artist:7dGJo4pcD2V6oG8kP0tJRR'}],\n",
       "    'disc_number': 1,\n",
       "    'duration_ms': 322226,\n",
       "    'explicit': True,\n",
       "    'external_ids': {'isrc': 'USIR10211559'},\n",
       "    'external_urls': {'spotify': 'https://open.spotify.com/track/1v7L65Lzy0j0vdpRjJewt1'},\n",
       "    'href': 'https://api.spotify.com/v1/tracks/1v7L65Lzy0j0vdpRjJewt1',\n",
       "    'id': '1v7L65Lzy0j0vdpRjJewt1',\n",
       "    'is_local': False,\n",
       "    'is_playable': True,\n",
       "    'name': 'Lose Yourself - From \"8 Mile\" Soundtrack',\n",
       "    'popularity': 79,\n",
       "    'preview_url': 'https://p.scdn.co/mp3-preview/e00024016d3d3687c5f3683edf865c7c962d209a?cid=1faa000df6734e638f2dc7fce4ca9dba',\n",
       "    'track_number': 2,\n",
       "    'type': 'track',\n",
       "    'uri': 'spotify:track:1v7L65Lzy0j0vdpRjJewt1'},\n",
       "   {'album': {'album_type': 'compilation',\n",
       "     'artists': [{'external_urls': {'spotify': 'https://open.spotify.com/artist/0LyfQWJT6nXafLPZqxe9Of'},\n",
       "       'href': 'https://api.spotify.com/v1/artists/0LyfQWJT6nXafLPZqxe9Of',\n",
       "       'id': '0LyfQWJT6nXafLPZqxe9Of',\n",
       "       'name': 'Various Artists',\n",
       "       'type': 'artist',\n",
       "       'uri': 'spotify:artist:0LyfQWJT6nXafLPZqxe9Of'}],\n",
       "     'external_urls': {'spotify': 'https://open.spotify.com/album/3CjuTytLZz3G9znXt2rJgU'},\n",
       "     'href': 'https://api.spotify.com/v1/albums/3CjuTytLZz3G9znXt2rJgU',\n",
       "     'id': '3CjuTytLZz3G9znXt2rJgU',\n",
       "     'images': [{'height': 640,\n",
       "       'url': 'https://i.scdn.co/image/ab67616d0000b2733f66b5b49ccea004a5ef0db2',\n",
       "       'width': 640},\n",
       "      {'height': 300,\n",
       "       'url': 'https://i.scdn.co/image/ab67616d00001e023f66b5b49ccea004a5ef0db2',\n",
       "       'width': 300},\n",
       "      {'height': 64,\n",
       "       'url': 'https://i.scdn.co/image/ab67616d000048513f66b5b49ccea004a5ef0db2',\n",
       "       'width': 64}],\n",
       "     'name': 'SHADYXV',\n",
       "     'release_date': '2014-11-24',\n",
       "     'release_date_precision': 'day',\n",
       "     'total_tracks': 28,\n",
       "     'type': 'album',\n",
       "     'uri': 'spotify:album:3CjuTytLZz3G9znXt2rJgU'},\n",
       "    'artists': [{'external_urls': {'spotify': 'https://open.spotify.com/artist/7dGJo4pcD2V6oG8kP0tJRR'},\n",
       "      'href': 'https://api.spotify.com/v1/artists/7dGJo4pcD2V6oG8kP0tJRR',\n",
       "      'id': '7dGJo4pcD2V6oG8kP0tJRR',\n",
       "      'name': 'Eminem',\n",
       "      'type': 'artist',\n",
       "      'uri': 'spotify:artist:7dGJo4pcD2V6oG8kP0tJRR'}],\n",
       "    'disc_number': 2,\n",
       "    'duration_ms': 320626,\n",
       "    'explicit': True,\n",
       "    'external_ids': {'isrc': 'USIR10211559'},\n",
       "    'external_urls': {'spotify': 'https://open.spotify.com/track/7MJQ9Nfxzh8LPZ9e9u68Fq'},\n",
       "    'href': 'https://api.spotify.com/v1/tracks/7MJQ9Nfxzh8LPZ9e9u68Fq',\n",
       "    'id': '7MJQ9Nfxzh8LPZ9e9u68Fq',\n",
       "    'is_local': False,\n",
       "    'is_playable': True,\n",
       "    'name': 'Lose Yourself',\n",
       "    'popularity': 74,\n",
       "    'preview_url': 'https://p.scdn.co/mp3-preview/150496718f9728eb329bb3a348028d56fcbea85c?cid=1faa000df6734e638f2dc7fce4ca9dba',\n",
       "    'track_number': 3,\n",
       "    'type': 'track',\n",
       "    'uri': 'spotify:track:7MJQ9Nfxzh8LPZ9e9u68Fq'},\n",
       "   {'album': {'album_type': 'compilation',\n",
       "     'artists': [{'external_urls': {'spotify': 'https://open.spotify.com/artist/0LyfQWJT6nXafLPZqxe9Of'},\n",
       "       'href': 'https://api.spotify.com/v1/artists/0LyfQWJT6nXafLPZqxe9Of',\n",
       "       'id': '0LyfQWJT6nXafLPZqxe9Of',\n",
       "       'name': 'Various Artists',\n",
       "       'type': 'artist',\n",
       "       'uri': 'spotify:artist:0LyfQWJT6nXafLPZqxe9Of'}],\n",
       "     'external_urls': {'spotify': 'https://open.spotify.com/album/6ihJNwZLZJmPmXgo06H4ty'},\n",
       "     'href': 'https://api.spotify.com/v1/albums/6ihJNwZLZJmPmXgo06H4ty',\n",
       "     'id': '6ihJNwZLZJmPmXgo06H4ty',\n",
       "     'images': [{'height': 640,\n",
       "       'url': 'https://i.scdn.co/image/ab67616d0000b2731df11a8c8b0b7cf79ea359c1',\n",
       "       'width': 640},\n",
       "      {'height': 300,\n",
       "       'url': 'https://i.scdn.co/image/ab67616d00001e021df11a8c8b0b7cf79ea359c1',\n",
       "       'width': 300},\n",
       "      {'height': 64,\n",
       "       'url': 'https://i.scdn.co/image/ab67616d000048511df11a8c8b0b7cf79ea359c1',\n",
       "       'width': 64}],\n",
       "     'name': 'SHADYXV',\n",
       "     'release_date': '2014-11-24',\n",
       "     'release_date_precision': 'day',\n",
       "     'total_tracks': 28,\n",
       "     'type': 'album',\n",
       "     'uri': 'spotify:album:6ihJNwZLZJmPmXgo06H4ty'},\n",
       "    'artists': [{'external_urls': {'spotify': 'https://open.spotify.com/artist/7dGJo4pcD2V6oG8kP0tJRR'},\n",
       "      'href': 'https://api.spotify.com/v1/artists/7dGJo4pcD2V6oG8kP0tJRR',\n",
       "      'id': '7dGJo4pcD2V6oG8kP0tJRR',\n",
       "      'name': 'Eminem',\n",
       "      'type': 'artist',\n",
       "      'uri': 'spotify:artist:7dGJo4pcD2V6oG8kP0tJRR'}],\n",
       "    'disc_number': 2,\n",
       "    'duration_ms': 320573,\n",
       "    'explicit': False,\n",
       "    'external_ids': {'isrc': 'USIR10211570'},\n",
       "    'external_urls': {'spotify': 'https://open.spotify.com/track/0s6Yxg9h7eW4M13rDq2N7Z'},\n",
       "    'href': 'https://api.spotify.com/v1/tracks/0s6Yxg9h7eW4M13rDq2N7Z',\n",
       "    'id': '0s6Yxg9h7eW4M13rDq2N7Z',\n",
       "    'is_local': False,\n",
       "    'is_playable': True,\n",
       "    'name': 'Lose Yourself',\n",
       "    'popularity': 49,\n",
       "    'preview_url': 'https://p.scdn.co/mp3-preview/d138df4ee1fe555c380c030722c480bdf3e79a50?cid=1faa000df6734e638f2dc7fce4ca9dba',\n",
       "    'track_number': 3,\n",
       "    'type': 'track',\n",
       "    'uri': 'spotify:track:0s6Yxg9h7eW4M13rDq2N7Z'}],\n",
       "  'limit': 3,\n",
       "  'next': 'https://api.spotify.com/v1/search?query=Lose+yourself&type=track&market=GB&offset=3&limit=3',\n",
       "  'offset': 0,\n",
       "  'previous': None,\n",
       "  'total': 5350}}"
      ]
     },
     "execution_count": 2,
     "metadata": {},
     "output_type": "execute_result"
    }
   ],
   "source": [
    "import spotipy\n",
    "from spotipy.oauth2 import SpotifyClientCredentials\n",
    "\n",
    "\n",
    "#Initialize SpotiPy with user credentias\n",
    "sp = spotipy.Spotify(auth_manager=SpotifyClientCredentials(client_id= config.client_id,\n",
    "                                                           client_secret= config.client_secret))\n",
    "\n",
    "# The \"sp\" variable has two useful funtions:\n",
    "# The first usefull function is:\n",
    "# .search(q='',limit=n)\n",
    "# .search(q=\"track:\"+song_name+\" artist:\"+artist_name,limit=5) to restrict to a song name and artist.\n",
    "# Where the \"q\" keyword is the query you want to perform on spotify: song_name, artist,...\n",
    "# while The \"limit\" keyword will limit the number of returned results.\n",
    "#\n",
    "# The second usefull function is:\n",
    "# .audio_features([URL|URI|ID])\n",
    "# which returns some 'features of the song', that after cleanup, we can use in order to characterize a song.\n",
    "\n",
    "results = sp.search(q=\"Lose yourself\",limit=3,market=\"GB\")\n",
    "results\n",
    "#json_results = json.dumps(results, ensure_ascii=True)\n",
    "#json_results\n",
    "#results['tracks']['items'][0]['external_urls'][\"spotify\"]"
   ]
  },
  {
   "cell_type": "code",
   "execution_count": 85,
   "id": "e914c555",
   "metadata": {},
   "outputs": [
    {
     "data": {
      "text/html": [
       "<div>\n",
       "<style scoped>\n",
       "    .dataframe tbody tr th:only-of-type {\n",
       "        vertical-align: middle;\n",
       "    }\n",
       "\n",
       "    .dataframe tbody tr th {\n",
       "        vertical-align: top;\n",
       "    }\n",
       "\n",
       "    .dataframe thead th {\n",
       "        text-align: right;\n",
       "    }\n",
       "</style>\n",
       "<table border=\"1\" class=\"dataframe\">\n",
       "  <thead>\n",
       "    <tr style=\"text-align: right;\">\n",
       "      <th></th>\n",
       "      <th>song_name</th>\n",
       "      <th>song_id</th>\n",
       "      <th>song_artist</th>\n",
       "      <th>album_name</th>\n",
       "      <th>cluster</th>\n",
       "    </tr>\n",
       "  </thead>\n",
       "  <tbody>\n",
       "    <tr>\n",
       "      <th>0</th>\n",
       "      <td>Unholy (feat. Kim Petras)</td>\n",
       "      <td>3nqQXoyQOWXiESFLlDF1hG</td>\n",
       "      <td>['Sam Smith', 'Kim Petras']</td>\n",
       "      <td>Unholy (feat. Kim Petras)</td>\n",
       "      <td>4</td>\n",
       "    </tr>\n",
       "    <tr>\n",
       "      <th>1</th>\n",
       "      <td>Anti-Hero</td>\n",
       "      <td>0V3wPSX9ygBnCm8psDIegu</td>\n",
       "      <td>['Taylor Swift']</td>\n",
       "      <td>Midnights</td>\n",
       "      <td>4</td>\n",
       "    </tr>\n",
       "    <tr>\n",
       "      <th>2</th>\n",
       "      <td>Rich Flex</td>\n",
       "      <td>1bDbXMyjaUIooNwFE9wn0N</td>\n",
       "      <td>['Drake', '21 Savage']</td>\n",
       "      <td>Her Loss</td>\n",
       "      <td>2</td>\n",
       "    </tr>\n",
       "    <tr>\n",
       "      <th>3</th>\n",
       "      <td>As It Was</td>\n",
       "      <td>4Dvkj6JhhA12EX05fT7y2e</td>\n",
       "      <td>['Harry Styles']</td>\n",
       "      <td>Harry's House</td>\n",
       "      <td>1</td>\n",
       "    </tr>\n",
       "    <tr>\n",
       "      <th>4</th>\n",
       "      <td>I'm Good (Blue)</td>\n",
       "      <td>4uUG5RXrOk84mYEfFvj3cK</td>\n",
       "      <td>['David Guetta', 'Bebe Rexha']</td>\n",
       "      <td>I'm Good (Blue)</td>\n",
       "      <td>1</td>\n",
       "    </tr>\n",
       "  </tbody>\n",
       "</table>\n",
       "</div>"
      ],
      "text/plain": [
       "                   song_name                 song_id  \\\n",
       "0  Unholy (feat. Kim Petras)  3nqQXoyQOWXiESFLlDF1hG   \n",
       "1                  Anti-Hero  0V3wPSX9ygBnCm8psDIegu   \n",
       "2                  Rich Flex  1bDbXMyjaUIooNwFE9wn0N   \n",
       "3                  As It Was  4Dvkj6JhhA12EX05fT7y2e   \n",
       "4            I'm Good (Blue)  4uUG5RXrOk84mYEfFvj3cK   \n",
       "\n",
       "                      song_artist                 album_name  cluster  \n",
       "0     ['Sam Smith', 'Kim Petras']  Unholy (feat. Kim Petras)        4  \n",
       "1                ['Taylor Swift']                  Midnights        4  \n",
       "2          ['Drake', '21 Savage']                   Her Loss        2  \n",
       "3                ['Harry Styles']              Harry's House        1  \n",
       "4  ['David Guetta', 'Bebe Rexha']            I'm Good (Blue)        1  "
      ]
     },
     "execution_count": 85,
     "metadata": {},
     "output_type": "execute_result"
    }
   ],
   "source": [
    "feat_df = pd.read_csv(\"song_feat.csv\")\n",
    "song_dets_clust = pd.read_csv(\"song_dets_clust.csv\", index_col=0)\n",
    "song_dets_clust.head()"
   ]
  },
  {
   "cell_type": "code",
   "execution_count": 21,
   "id": "a23ff67e",
   "metadata": {},
   "outputs": [],
   "source": [
    "def load(filename = \"kmeans_8.pickle\"): \n",
    "    try: \n",
    "        with open(filename, \"rb\") as f: \n",
    "            return pickle.load(f) \n",
    "        \n",
    "    except FileNotFoundError: \n",
    "        print(\"File not found!\")\n",
    "kmeans = load()"
   ]
  },
  {
   "cell_type": "code",
   "execution_count": 15,
   "id": "6eb0d126",
   "metadata": {},
   "outputs": [],
   "source": [
    "scaler2 = load(\"scaler.pickle\")"
   ]
  },
  {
   "cell_type": "markdown",
   "id": "5527c54b",
   "metadata": {},
   "source": [
    "#updateing top 100 song list\n",
    "def job(t):\n",
    "    print (\"I'm working...\", t)\n",
    "    %run ./Musik_recommender.ipynb\n",
    "    return\n",
    "schedule.every().day.at(\"10:03\").do(job,'It is 10:03')\n",
    "\n",
    "while True:\n",
    "    schedule.run_pending()\n",
    "    time.sleep(60)"
   ]
  },
  {
   "cell_type": "code",
   "execution_count": 7,
   "id": "429caffb",
   "metadata": {},
   "outputs": [],
   "source": [
    "top_songs = pd.read_csv(\"top_songs.csv\")"
   ]
  },
  {
   "cell_type": "code",
   "execution_count": 8,
   "id": "c0debee0",
   "metadata": {},
   "outputs": [],
   "source": [
    "#function for user input\n",
    "def song_input():\n",
    "    user_answer = input(\"What's you fauvorite song?\")\n",
    "    spell = Speller(lang='en')\n",
    "    corr_input = spell(user_answer)\n",
    "    return corr_input.lower()"
   ]
  },
  {
   "cell_type": "code",
   "execution_count": 9,
   "id": "e80d50e0",
   "metadata": {},
   "outputs": [],
   "source": [
    "#take user input and compare against top 100\n",
    "def top_recommend(x_song_input):\n",
    "    if x_song_input in list(top_songs[\"Song\"]):\n",
    "        ran_num = random.randint(0,99)\n",
    "        ren_song = top_songs[\"Song\"][ran_num]\n",
    "        ren_art = top_songs[\"Singer\"][ran_num]\n",
    "        print(\"You like {} from the Top Hits chart. You should like {} by {} as well\".format(x_song_input.title(), ren_song.title(), ren_art.title()))\n",
    "    else:\n",
    "        print(\"try another song\")"
   ]
  },
  {
   "cell_type": "code",
   "execution_count": 10,
   "id": "213e409b",
   "metadata": {},
   "outputs": [
    {
     "name": "stdout",
     "output_type": "stream",
     "text": [
      "What's you fauvorite song?baby girl\n",
      "try another song\n"
     ]
    }
   ],
   "source": [
    "top_recommend(song_input())"
   ]
  },
  {
   "cell_type": "code",
   "execution_count": 132,
   "id": "10536ee3",
   "metadata": {},
   "outputs": [],
   "source": [
    "#user song feature finder\n",
    "def sng_feat_finder(x_song_input):\n",
    "    song = sp.search(q=x_song_input, limit=1,market=\"GB\")\n",
    "    print(\"We've found this song {}\".format(song[\"tracks\"][\"items\"][0][\"name\"]))\n",
    "    song_id = song[\"tracks\"][\"items\"][0][\"id\"]\n",
    "    song_features = pd.DataFrame(sp.audio_features(song_id))\n",
    "    song_feature_cut = pd.concat([song_features.iloc[:,0:11], song_features.iloc[:,-1:]], axis=1)\n",
    "    return np.array(song_feature_cut)"
   ]
  },
  {
   "cell_type": "code",
   "execution_count": 135,
   "id": "1f0b345d",
   "metadata": {},
   "outputs": [
    {
     "name": "stdout",
     "output_type": "stream",
     "text": [
      "We've found this song A Cappella\n"
     ]
    },
    {
     "name": "stderr",
     "output_type": "stream",
     "text": [
      "/Users/kirilltiufanov/opt/anaconda3/lib/python3.9/site-packages/sklearn/base.py:450: UserWarning: X does not have valid feature names, but StandardScaler was fitted with feature names\n",
      "  warnings.warn(\n"
     ]
    },
    {
     "data": {
      "text/plain": [
       "3"
      ]
     },
     "execution_count": 135,
     "metadata": {},
     "output_type": "execute_result"
    }
   ],
   "source": [
    "test_song = sng_feat_finder(\"0V3wPSX9ygBnCm8psDIegu\")\n",
    "def user_song_cluster(x_sng_feat_finder):\n",
    "    x_sng_feat_finder = x_sng_feat_finder.reshape(1,-1)\n",
    "    song_trans = scaler2.transform(x_sng_feat_finder)\n",
    "    cluster = kmeans.predict(song_trans)[0]\n",
    "    return cluster\n",
    "user_song_cluster(test_song)"
   ]
  },
  {
   "cell_type": "code",
   "execution_count": 102,
   "id": "72f8acee",
   "metadata": {},
   "outputs": [
    {
     "data": {
      "text/plain": [
       "('Unforgettable',\n",
       " '30f7TNgvsS1AWtyuVqMucH',\n",
       " \"['Nico Santos']\",\n",
       " 'Streets Of Gold (Unforgettable Edition)',\n",
       " 4)"
      ]
     },
     "execution_count": 102,
     "metadata": {},
     "output_type": "execute_result"
    }
   ],
   "source": [
    "def get_recommendation(x_user_song_cluster):\n",
    "    similar_songs = song_dets_clust.loc[song_dets_clust.cluster == x_user_song_cluster]\n",
    "    random_index = random.randint(0,len(similar_songs))\n",
    "    song_name, song_id, song_artist,album_name, cluster = song_dets_clust.iloc[random_index]\n",
    "    return song_name, song_id, song_artist, album_name, cluster \n",
    "get_recommendation(3)"
   ]
  },
  {
   "cell_type": "code",
   "execution_count": 148,
   "id": "f6b6abd1",
   "metadata": {},
   "outputs": [
    {
     "name": "stdout",
     "output_type": "stream",
     "text": [
      "What's you fauvorite song?califonication\n",
      "We've found this song Californication\n",
      "We see you likes Califonication, then Unholy (feat. Kim Petras) by ['Sam Smith', 'Kim Petras'] also should be nice to listen to!\n"
     ]
    },
    {
     "name": "stderr",
     "output_type": "stream",
     "text": [
      "/Users/kirilltiufanov/opt/anaconda3/lib/python3.9/site-packages/sklearn/base.py:450: UserWarning: X does not have valid feature names, but StandardScaler was fitted with feature names\n",
      "  warnings.warn(\n"
     ]
    }
   ],
   "source": [
    "def recommender(song = song_input()):\n",
    "    features = sng_feat_finder(song)\n",
    "    cluster = user_song_cluster(features)\n",
    "    song_name, song_id, song_artist, album_name, cluster = get_recommendation(cluster)\n",
    "    print(\"We see you likes {}, then {} by {} also should be nice to listen to!\".format(song.title(),song_name, song_artist))\n",
    "\n",
    "recommender()"
   ]
  }
 ],
 "metadata": {
  "kernelspec": {
   "display_name": "Python 3 (ipykernel)",
   "language": "python",
   "name": "python3"
  },
  "language_info": {
   "codemirror_mode": {
    "name": "ipython",
    "version": 3
   },
   "file_extension": ".py",
   "mimetype": "text/x-python",
   "name": "python",
   "nbconvert_exporter": "python",
   "pygments_lexer": "ipython3",
   "version": "3.9.12"
  }
 },
 "nbformat": 4,
 "nbformat_minor": 5
}
