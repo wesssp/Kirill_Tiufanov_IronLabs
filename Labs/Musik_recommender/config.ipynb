{
 "cells": [
  {
   "cell_type": "code",
   "execution_count": null,
   "id": "55bc73d7",
   "metadata": {},
   "outputs": [],
   "source": [
    "client_id = \"1faa000df6734e638f2dc7fce4ca9dba\"\n",
    "client_secret =\"342dead4020f443da796de19e01e8882\""
   ]
  }
 ],
 "metadata": {
  "kernelspec": {
   "display_name": "Python 3 (ipykernel)",
   "language": "python",
   "name": "python3"
  },
  "language_info": {
   "codemirror_mode": {
    "name": "ipython",
    "version": 3
   },
   "file_extension": ".py",
   "mimetype": "text/x-python",
   "name": "python",
   "nbconvert_exporter": "python",
   "pygments_lexer": "ipython3",
   "version": "3.9.12"
  }
 },
 "nbformat": 4,
 "nbformat_minor": 5
}
