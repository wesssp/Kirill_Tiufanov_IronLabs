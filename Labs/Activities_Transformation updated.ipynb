{
 "cells": [
  {
   "cell_type": "code",
   "execution_count": null,
   "id": "52e6fda4",
   "metadata": {},
   "outputs": [],
   "source": [
    "import numpy as np\n",
    "import pandas as pd\n",
    "import matplotlib.pyplot as plt\n",
    "%matplotlib inline\n",
    "import seaborn as sns\n",
    "from sklearn.preprocessing import StandardScaler\n",
    "from sklearn.preprocessing import quantile_transform\n",
    "from sklearn.preprocessing import minmax_scale\n",
    "from sklearn.preprocessing import OneHotEncoder, LabelEncoder  ##. better to use dummy from pandas \n",
    "from sklearn.preprocessing import PowerTransformer, StandardScaler, minmax_scale\n",
    "from scipy.stats import boxcox\n",
    "from sklearn.linear_model import LinearRegression\n",
    "from sklearn.model_selection import train_test_split\n",
    "import statsmodels.api as sm\n",
    "from scipy.stats import boxcox\n",
    "from sklearn.metrics import r2_score\n",
    "from sklearn.metrics import mean_squared_error as mse\n",
    "from sklearn.metrics import mean_absolute_error as mae\n",
    "pd.options.display.max_rows = 50\n",
    "import random"
   ]
  },
  {
   "cell_type": "code",
   "execution_count": null,
   "id": "9782db7a",
   "metadata": {},
   "outputs": [],
   "source": []
  },
  {
   "cell_type": "code",
   "execution_count": null,
   "id": "9d6ad7ad",
   "metadata": {},
   "outputs": [],
   "source": [
    "df = pd.read_csv(\"Data_Marketing_Customer_Analysis_Round3.csv\")\n",
    "df.info()\n",
    "df.head()"
   ]
  },
  {
   "cell_type": "code",
   "execution_count": null,
   "id": "d27a675a",
   "metadata": {},
   "outputs": [],
   "source": [
    "numbers = [\"int64\", ]\n",
    "numericals = df.select_dtypes(include=numbers)\n",
    "sns.heatmap(numericals.corr(), annot=True)"
   ]
  },
  {
   "cell_type": "code",
   "execution_count": null,
   "id": "0d559436",
   "metadata": {},
   "outputs": [],
   "source": []
  },
  {
   "cell_type": "code",
   "execution_count": null,
   "id": "cc80fd28",
   "metadata": {},
   "outputs": [],
   "source": [
    "#filter string features\n",
    "categories = [\"object\"]\n",
    "categoricals = df.select_dtypes(include=categories)\n",
    "categoricals.drop([\"effective_to_date\"], axis=1, inplace=True)"
   ]
  },
  {
   "cell_type": "code",
   "execution_count": null,
   "id": "5aa6939d",
   "metadata": {},
   "outputs": [],
   "source": [
    "#split string features for label and one hot\n",
    "label_features = [\"coverage\", \"education\", \"vehicle_class\",\"employment_status\"]\n",
    "label_cat = categoricals[label_features]\n",
    "categoricals.drop(label_features, axis=1, inplace = True)"
   ]
  },
  {
   "cell_type": "code",
   "execution_count": null,
   "id": "63db5f18",
   "metadata": {},
   "outputs": [],
   "source": [
    "label_cat"
   ]
  },
  {
   "cell_type": "code",
   "execution_count": null,
   "id": "54566643",
   "metadata": {},
   "outputs": [],
   "source": [
    "#onehotencode strin features\n",
    "encoder = OneHotEncoder()\n",
    "hotcateg = encoder.fit_transform(categoricals).toarray()\n",
    "hot_df = pd.DataFrame(hotcateg)\n",
    "hot_df.columns = encoder.get_feature_names_out()\n",
    "hot_df"
   ]
  },
  {
   "cell_type": "code",
   "execution_count": null,
   "id": "6e31e032",
   "metadata": {},
   "outputs": [],
   "source": [
    "#labelencoding categorical features\n",
    "labencoder = LabelEncoder()\n",
    "lc_cov = labencoder.fit_transform(label_cat[\"coverage\"])\n",
    "lc_edu = labencoder.fit_transform(label_cat[\"education\"])\n",
    "lc_vc = labencoder.fit_transform(label_cat[\"vehicle_class\"])\n",
    "lc_es = labencoder.fit_transform(label_cat[\"employment_status\"])"
   ]
  },
  {
   "cell_type": "code",
   "execution_count": null,
   "id": "786dbee6",
   "metadata": {},
   "outputs": [],
   "source": [
    "#merging hot encoded features into one df\n",
    "uni_df= np.stack([lc_cov, lc_edu, lc_vc, lc_es], axis=1)\n",
    "labeled_df = pd.DataFrame(uni_df, columns=[\"coverage\",\"education\", \"vehicle_class\",\"employment_status\"])\n",
    "cat_trans_df = hot_df.join(labeled_df)\n",
    "cat_trans_df"
   ]
  },
  {
   "cell_type": "code",
   "execution_count": null,
   "id": "c9b09e46",
   "metadata": {},
   "outputs": [],
   "source": [
    "#cat_dumms = pd.get_dummies(categoricals)"
   ]
  },
  {
   "cell_type": "code",
   "execution_count": null,
   "id": "5b85d866",
   "metadata": {},
   "outputs": [],
   "source": [
    "numericals = numericals.join(cat_trans_df)\n",
    "\n",
    "numericals"
   ]
  },
  {
   "cell_type": "code",
   "execution_count": null,
   "id": "88797157",
   "metadata": {},
   "outputs": [],
   "source": [
    "#low_coef_feauteres = [\"number_of_open_complaints\",\"number_of_policies\", \"months_since_policy_inception\",\"education\", \"months_since_last_claim\"]\n",
    "#numericals.drop(low_coef_feauteres, axis=1,inplace = True)"
   ]
  },
  {
   "cell_type": "code",
   "execution_count": null,
   "id": "1fe9ff47",
   "metadata": {},
   "outputs": [],
   "source": [
    "pwr = PowerTransformer()\n",
    "ltv = numericals[\"customer_lifetime_value\"]\n",
    "ltv_array = ltv.to_numpy()\n",
    "ltv_array= np.reshape(ltv_array,(-1, 1))\n",
    "ltv = pwr.fit_transform(ltv_array)\n",
    "numericals[\"customer_lifetime_value\"] = ltv\n"
   ]
  },
  {
   "cell_type": "code",
   "execution_count": null,
   "id": "f6d2bd4a",
   "metadata": {},
   "outputs": [],
   "source": [
    "stscl = StandardScaler()\n",
    "mpa = numericals[\"income\"]\n",
    "mpa_array = mpa.to_numpy()\n",
    "mpa_array= np.reshape(mpa_array,(-1, 1))\n",
    "mpa = stscl.fit_transform(mpa_array)\n",
    "numericals[\"income\"] = mpa\n",
    "numericals.hist(figsize=(14,14))"
   ]
  },
  {
   "cell_type": "code",
   "execution_count": null,
   "id": "ddaf8668",
   "metadata": {},
   "outputs": [],
   "source": [
    "#splitting the target feature\n",
    "X = numericals.drop(\"total_claim_amount\", axis=1)\n",
    "y = numericals[\"total_claim_amount\"]"
   ]
  },
  {
   "cell_type": "code",
   "execution_count": null,
   "id": "fe409ce6",
   "metadata": {},
   "outputs": [],
   "source": [
    "#splitting the testing dataset\n",
    "X_train, X_test, y_train, y_test = train_test_split(X, y, test_size = .25, random_state=123)\n",
    "X_train = X_train.select_dtypes(include=np.number)\n",
    "X_test  = X_test.select_dtypes(include=np.number)"
   ]
  },
  {
   "cell_type": "code",
   "execution_count": null,
   "id": "bec929ad",
   "metadata": {},
   "outputs": [],
   "source": []
  },
  {
   "cell_type": "markdown",
   "id": "c2fd8925",
   "metadata": {},
   "source": [
    "**NEW WORK"
   ]
  },
  {
   "cell_type": "code",
   "execution_count": null,
   "id": "738a2292",
   "metadata": {},
   "outputs": [],
   "source": [
    "from sklearn.feature_selection import VarianceThreshold\n",
    "\n",
    "#display(X_train)\n",
    "print(\"Initial number of numerical columns: \",X_train.shape)\n",
    "print()\n",
    "\n",
    "\n",
    "selector = VarianceThreshold(threshold=100) # Default threshold value is 0\n",
    "# Features with a training-set variance lower than this threshold will be removed.\n",
    "selector.fit(X_train)\n",
    "\n",
    "kept_features_indexes = selector.get_support(indices = True) #returns an array of integers corresponding to nonremoved features\n",
    "kept_features = list(X_train.iloc[:,kept_features_indexes].columns)\n",
    "\n",
    "X_train = selector.transform(X_train)\n",
    "X_test  = selector.transform(X_test)\n",
    "\n",
    "X_train = pd.DataFrame(X_train, columns=kept_features)\n",
    "X_test  = pd.DataFrame(X_test, columns=kept_features)\n",
    "\n",
    "print(\"Final number of numerical columns: \",X_train.shape)\n",
    "print()\n",
    "X_train"
   ]
  },
  {
   "cell_type": "code",
   "execution_count": null,
   "id": "bd692668",
   "metadata": {},
   "outputs": [],
   "source": [
    "from sklearn.impute import SimpleImputer\n",
    "imp_mean = SimpleImputer(missing_values=np.nan, strategy='mean')\n",
    "X_train=imp_mean.fit_transform(X_train)\n",
    "X_test=imp_mean.fit_transform(X_test)"
   ]
  },
  {
   "cell_type": "code",
   "execution_count": null,
   "id": "d5b515dc",
   "metadata": {},
   "outputs": [],
   "source": [
    "pd.DataFrame(X_train)"
   ]
  },
  {
   "cell_type": "code",
   "execution_count": null,
   "id": "c9a8fadd",
   "metadata": {},
   "outputs": [],
   "source": [
    "model=LinearRegression()\n",
    "model.fit(X_train, y_train)\n",
    "print(f\"{model.__class__.__name__}: Train -> {model.score(X_train, y_train)}, Test -> {model.score(X_test, y_test)}\")"
   ]
  },
  {
   "cell_type": "code",
   "execution_count": null,
   "id": "597086e1",
   "metadata": {},
   "outputs": [],
   "source": [
    "###\n",
    "from sklearn.linear_model import Lasso,Ridge,ElasticNet, LinearRegression\n",
    "model=Lasso(alpha=0.05)\n",
    "\n",
    "model.fit(X_train, y_train)\n",
    "print(f\"{model.__class__.__name__}: Train -> {model.score(X_train, y_train)}, Test -> {model.score(X_test, y_test)}\")"
   ]
  },
  {
   "cell_type": "code",
   "execution_count": null,
   "id": "b07902da",
   "metadata": {},
   "outputs": [],
   "source": [
    "model=Ridge(alpha=10000)\n",
    "model.fit(X_train, y_train)\n",
    "print(f\"{model.__class__.__name__}: Train -> {model.score(X_train, y_train)}, Test -> {model.score(X_test, y_test)}\")"
   ]
  },
  {
   "cell_type": "code",
   "execution_count": null,
   "id": "7770bb27",
   "metadata": {},
   "outputs": [],
   "source": [
    "model=ElasticNet(alpha=0.1)\n",
    "model.fit(X_train, y_train)\n",
    "print(f\"{model.__class__.__name__}: Train -> {model.score(X_train, y_train)}, Test -> {model.score(X_test, y_test)}\")"
   ]
  },
  {
   "cell_type": "code",
   "execution_count": null,
   "id": "bb4af6a6",
   "metadata": {},
   "outputs": [],
   "source": [
    "from sklearn.neighbors import KNeighborsRegressor\n",
    "model=KNeighborsRegressor(n_neighbors=5)\n",
    "\n",
    "model.fit(X_train, y_train)\n",
    "print(f\"{model.__class__.__name__}: Train -> {model.score(X_train, y_train)}, Test -> {model.score(X_test, y_test)}\")"
   ]
  },
  {
   "cell_type": "markdown",
   "id": "086eafeb",
   "metadata": {},
   "source": [
    "**OLS"
   ]
  },
  {
   "cell_type": "code",
   "execution_count": null,
   "id": "adba0596",
   "metadata": {},
   "outputs": [],
   "source": [
    "X_added_constant = sm.add_constant(X)\n",
    "X_added_constant"
   ]
  },
  {
   "cell_type": "code",
   "execution_count": null,
   "id": "4c6efa80",
   "metadata": {},
   "outputs": [],
   "source": [
    "# we need to add this constant value of 1 for the intercepts\n",
    "model = sm.OLS(y,X_added_constant).fit()\n",
    "model.summary()"
   ]
  },
  {
   "cell_type": "code",
   "execution_count": null,
   "id": "b9b38cd7",
   "metadata": {},
   "outputs": [],
   "source": [
    "model.params[list(np.where(model.pvalues < 0.05)[0])].iloc[0:].index.tolist()\n",
    "significant_features=X_added_constant[model.params[list(np.where(model.pvalues < 0.05)[0])].iloc[0:].index.tolist()]\n",
    "significant_features"
   ]
  },
  {
   "cell_type": "code",
   "execution_count": null,
   "id": "2a8a21af",
   "metadata": {},
   "outputs": [],
   "source": [
    "model = sm.OLS(y,X_added_constant).fit()\n",
    "model.summary()"
   ]
  },
  {
   "cell_type": "markdown",
   "id": "2ade2963",
   "metadata": {},
   "source": [
    "**OLD WORK:"
   ]
  },
  {
   "cell_type": "code",
   "execution_count": null,
   "id": "692505b0",
   "metadata": {},
   "outputs": [],
   "source": [
    "std_scl = StandardScaler()\n",
    "X_trained_tr = std_scl.fit_transform(X_train)\n",
    "X_test_tr = std_scl.fit_transform(X_test)"
   ]
  },
  {
   "cell_type": "code",
   "execution_count": null,
   "id": "93f27b67",
   "metadata": {},
   "outputs": [],
   "source": [
    "X_test_tr = std_scl.fit_transform(X_test)\n"
   ]
  },
  {
   "cell_type": "code",
   "execution_count": null,
   "id": "52701e94",
   "metadata": {},
   "outputs": [],
   "source": [
    "###statsmodels.api model\n",
    "#train\n",
    "X_trained_tr_cons = sm.add_constant(X_trained_tr)\n",
    "model = sm.OLS(y_train, X_trained_tr_cons).fit()\n",
    "predict_train = model.predict(X_trained_tr_cons)\n",
    "\n",
    "#test\n",
    "X_test_tr_cons = sm.add_constant(X_test_tr)\n",
    "model = sm.OLS(y_test, X_test_tr_cons).fit()\n",
    "predict_test = model.predict(X_test_tr_cons)"
   ]
  },
  {
   "cell_type": "code",
   "execution_count": null,
   "id": "0ebc55be",
   "metadata": {},
   "outputs": [],
   "source": []
  },
  {
   "cell_type": "code",
   "execution_count": null,
   "id": "6376d089",
   "metadata": {},
   "outputs": [],
   "source": []
  },
  {
   "cell_type": "code",
   "execution_count": null,
   "id": "a20c513d",
   "metadata": {},
   "outputs": [],
   "source": [
    "print(model.summary())"
   ]
  },
  {
   "cell_type": "code",
   "execution_count": null,
   "id": "d9252ff2",
   "metadata": {},
   "outputs": [],
   "source": []
  },
  {
   "cell_type": "code",
   "execution_count": null,
   "id": "6db9f5ec",
   "metadata": {},
   "outputs": [],
   "source": [
    "###Scikit model\n",
    "sk_model = LinearRegression()\n",
    "sk_model.fit(X_trained_tr, y_train)"
   ]
  },
  {
   "cell_type": "code",
   "execution_count": null,
   "id": "e4946d99",
   "metadata": {},
   "outputs": [],
   "source": [
    "X_train"
   ]
  },
  {
   "cell_type": "code",
   "execution_count": null,
   "id": "e89847b1",
   "metadata": {},
   "outputs": [],
   "source": [
    "len(sk_model.coef_)"
   ]
  },
  {
   "cell_type": "code",
   "execution_count": null,
   "id": "66449a1d",
   "metadata": {},
   "outputs": [],
   "source": []
  },
  {
   "cell_type": "code",
   "execution_count": null,
   "id": "c1e931e9",
   "metadata": {},
   "outputs": [],
   "source": [
    "y_pred_test = sk_model.predict(X_test_tr)\n",
    "y_pred_train = sk_model.predict(X_trained_tr)"
   ]
  },
  {
   "cell_type": "code",
   "execution_count": null,
   "id": "4294d04c",
   "metadata": {},
   "outputs": [],
   "source": [
    "print(f'model score on training data: {sk_model.score(X_train, y_train)}')\n",
    "print(f'model score on testing data: {sk_model.score(X_test, y_test)}')"
   ]
  },
  {
   "cell_type": "code",
   "execution_count": null,
   "id": "319520ca",
   "metadata": {},
   "outputs": [],
   "source": [
    "coefs = pd.DataFrame(\n",
    "   sk_model.coef_,\n",
    "   columns=['Coefficients'], index=X_train.columns)\n",
    "coefs"
   ]
  },
  {
   "cell_type": "code",
   "execution_count": null,
   "id": "ea5f887d",
   "metadata": {},
   "outputs": [],
   "source": [
    "y_pred_train"
   ]
  },
  {
   "cell_type": "code",
   "execution_count": null,
   "id": "f85d4a5f",
   "metadata": {},
   "outputs": [],
   "source": [
    "y_test"
   ]
  },
  {
   "cell_type": "code",
   "execution_count": null,
   "id": "b0604707",
   "metadata": {},
   "outputs": [],
   "source": [
    "#random prediciton sample\n",
    "rps = []\n",
    "for i in range(0, len(X_train.columns)):\n",
    "    rps.append(X_train.iat[random.randrange(len(X_train)), i])\n",
    "    "
   ]
  },
  {
   "cell_type": "code",
   "execution_count": null,
   "id": "203291eb",
   "metadata": {},
   "outputs": [],
   "source": [
    "len(rps)"
   ]
  },
  {
   "cell_type": "code",
   "execution_count": null,
   "id": "1299786e",
   "metadata": {},
   "outputs": [],
   "source": [
    "## new record prediction\n",
    "std_scaler = StandardScaler()\n",
    "new_data_scaled=std_scaler.fit_transform(np.array(rps).reshape(1,-1))"
   ]
  },
  {
   "cell_type": "code",
   "execution_count": null,
   "id": "03a7e255",
   "metadata": {},
   "outputs": [],
   "source": [
    "np.array(np.array(rps).reshape(1,-1)).shape"
   ]
  },
  {
   "cell_type": "code",
   "execution_count": null,
   "id": "3935373a",
   "metadata": {},
   "outputs": [],
   "source": [
    "sk_model.predict(new_data_scaled)"
   ]
  },
  {
   "cell_type": "code",
   "execution_count": null,
   "id": "58e5f809",
   "metadata": {},
   "outputs": [],
   "source": [
    "#checking prediction\n",
    "result=pd.DataFrame({\"y_test\":y_test,\"y_pred\":y_pred_test})"
   ]
  },
  {
   "cell_type": "code",
   "execution_count": null,
   "id": "291ebaa4",
   "metadata": {},
   "outputs": [],
   "source": [
    "# Make an scatter plot y_pred vs y\n",
    "# What kind of plot you will get if all the all the predictions are ok?\n",
    "# A stright line\n",
    "\n",
    "fig, ax = plt.subplots(1,3,figsize=(14,4))\n",
    "ax[0].plot(y_pred_test, y_test, 'o')\n",
    "ax[0].set_xlabel(\"y_test\")\n",
    "ax[0].set_ylabel(\"y_pred\")\n",
    "ax[0].set_title(\"Test Set -Predicted vs real\")\n",
    "\n",
    "# Get a histogram of the residuals ie: y - y_pred.  Homoscdasticity\n",
    "# It resembles a normal distribution?\n",
    "ax[1].hist(y_test - y_pred_test)\n",
    "ax[1].set_xlabel(\"Test y-y_pred\")\n",
    "ax[1].set_title(\"Test Set Residual histogram\")\n",
    "\n",
    "ax[2].plot(y_pred_test,y_test - y_pred_test,\"o\")\n",
    "ax[2].set_xlabel(\"predited\")\n",
    "ax[2].set_ylabel(\"residuals\")\n",
    "ax[2].set_title(\"Residuals by Predicted\")\n",
    "ax[2].plot(y_pred_test,np.zeros(len(y_pred_test)),linestyle='dashed')"
   ]
  },
  {
   "cell_type": "code",
   "execution_count": null,
   "id": "297208ec",
   "metadata": {},
   "outputs": [],
   "source": [
    "sns.regplot(x='y_pred',y='y_test', data=result, scatter_kws={\"color\": \"red\"}, line_kws={\"color\": \"black\"})"
   ]
  },
  {
   "cell_type": "code",
   "execution_count": null,
   "id": "fa85087c",
   "metadata": {},
   "outputs": [],
   "source": [
    "print(mse(y_test,y_pred_test))\n",
    "print(mae(y_test,y_pred_test))"
   ]
  },
  {
   "cell_type": "code",
   "execution_count": null,
   "id": "bafc40c9",
   "metadata": {
    "scrolled": true
   },
   "outputs": [],
   "source": [
    "features_importances = pd.DataFrame(data={\n",
    "    'Attribute': X_train.columns,\n",
    "    'Importance': abs(sk_model.coef_)\n",
    "})\n",
    "features_importances = features_importances.sort_values(by='Importance', ascending=False)\n",
    "features_importances"
   ]
  },
  {
   "cell_type": "code",
   "execution_count": null,
   "id": "6655a19e",
   "metadata": {},
   "outputs": [],
   "source": [
    "df.to_csv(\"Kirill's_super_bad_prediction.csv\")"
   ]
  }
 ],
 "metadata": {
  "kernelspec": {
   "display_name": "Python 3 (ipykernel)",
   "language": "python",
   "name": "python3"
  },
  "language_info": {
   "codemirror_mode": {
    "name": "ipython",
    "version": 3
   },
   "file_extension": ".py",
   "mimetype": "text/x-python",
   "name": "python",
   "nbconvert_exporter": "python",
   "pygments_lexer": "ipython3",
   "version": "3.9.12"
  }
 },
 "nbformat": 4,
 "nbformat_minor": 5
}
