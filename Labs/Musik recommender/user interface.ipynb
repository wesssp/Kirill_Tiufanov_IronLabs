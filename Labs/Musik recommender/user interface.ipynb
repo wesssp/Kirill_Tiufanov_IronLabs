{
 "cells": [
  {
   "cell_type": "code",
   "execution_count": 28,
   "id": "738f237c",
   "metadata": {},
   "outputs": [],
   "source": [
    "import csv\n",
    "import pandas as pd\n",
    "import random\n",
    "from autocorrect import Speller\n",
    "import schedule\n",
    "import time"
   ]
  },
  {
   "cell_type": "code",
   "execution_count": 2,
   "id": "8e1e6038",
   "metadata": {},
   "outputs": [],
   "source": [
    "top_songs = pd.read_csv(\"top_songs.csv\")"
   ]
  },
  {
   "cell_type": "code",
   "execution_count": 24,
   "id": "b7b8cc6a",
   "metadata": {},
   "outputs": [
    {
     "name": "stdout",
     "output_type": "stream",
     "text": [
      "That's you fauvorite song?antu heros\n",
      "You like Anti Hero from the Top Hits chart. You should like Vigilante Shit by Taylor Swift as well\n"
     ]
    }
   ],
   "source": [
    "def song_recommender():\n",
    "    user_answer = input(\"That's you fauvorite song?\")\n",
    "    spell = Speller(lang='en')\n",
    "    corr_input = spell(user_answer)\n",
    "    if corr_input.lower() in list(top_songs[\"Song\"]):\n",
    "        ran_num = random.randint(0,99)\n",
    "        ren_song = top_songs[\"Song\"][ran_num]\n",
    "        ren_art = top_songs[\"Singer\"][ran_num]\n",
    "        print(\"You like {} from the Top Hits chart. You should like {} by {} as well\".format(corr_input.title(), ren_song.title(), ren_art.title()))\n",
    "    else:\n",
    "        print(\"try another song\")\n",
    "song_recommender()"
   ]
  },
  {
   "cell_type": "code",
   "execution_count": 25,
   "id": "e17acc3e",
   "metadata": {},
   "outputs": [],
   "source": []
  },
  {
   "cell_type": "code",
   "execution_count": null,
   "id": "c939b840",
   "metadata": {},
   "outputs": [
    {
     "name": "stdout",
     "output_type": "stream",
     "text": [
      "I'm working... It is 15:10\n"
     ]
    }
   ],
   "source": [
    "def job(t):\n",
    "    print (\"I'm working...\", t)\n",
    "    %run ./Musik_recommender.ipynb\n",
    "    return\n",
    "schedule.every().day.at(\"15:15\").do(job,'It is 15:15')\n",
    "\n",
    "while True:\n",
    "    schedule.run_pending()\n",
    "    time.sleep(60)"
   ]
  }
 ],
 "metadata": {
  "kernelspec": {
   "display_name": "Python 3 (ipykernel)",
   "language": "python",
   "name": "python3"
  },
  "language_info": {
   "codemirror_mode": {
    "name": "ipython",
    "version": 3
   },
   "file_extension": ".py",
   "mimetype": "text/x-python",
   "name": "python",
   "nbconvert_exporter": "python",
   "pygments_lexer": "ipython3",
   "version": "3.9.12"
  }
 },
 "nbformat": 4,
 "nbformat_minor": 5
}
